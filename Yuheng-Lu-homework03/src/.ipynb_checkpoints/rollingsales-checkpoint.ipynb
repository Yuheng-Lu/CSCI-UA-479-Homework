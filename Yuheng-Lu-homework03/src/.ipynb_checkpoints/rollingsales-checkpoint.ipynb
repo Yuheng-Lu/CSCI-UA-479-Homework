{
 "cells": [
  {
   "cell_type": "markdown",
   "metadata": {},
   "source": [
    "## Manhattan Properties Sold Sep 2018 to Aug 2019"
   ]
  },
  {
   "cell_type": "markdown",
   "metadata": {},
   "source": [
    "#### 1. import rollingsales_manhattan.csv as a DataFrame"
   ]
  },
  {
   "cell_type": "code",
   "execution_count": 1,
   "metadata": {},
   "outputs": [],
   "source": [
    "import pandas as pd\n",
    "DataFrame = pd.read_csv('../data/raw/rollingsales_manhattan.csv', header = 4)"
   ]
  },
  {
   "cell_type": "markdown",
   "metadata": {},
   "source": [
    "* The first four rows in the csv file are some descriptions of the data set. We should ignore them, and the real data start from the fifth row."
   ]
  },
  {
   "cell_type": "markdown",
   "metadata": {},
   "source": [
    "#### 2. display columns and row samples"
   ]
  },
  {
   "cell_type": "code",
   "execution_count": 2,
   "metadata": {},
   "outputs": [
    {
     "name": "stdout",
     "output_type": "stream",
     "text": [
      "Index(['BOROUGH', 'NEIGHBORHOOD', 'BUILDING CLASS CATEGORY',\n",
      "       'TAX CLASS AT PRESENT', 'BLOCK', 'LOT', 'EASE-MENT',\n",
      "       'BUILDING CLASS AT PRESENT', 'ADDRESS', 'APARTMENT NUMBER', 'ZIP CODE',\n",
      "       'RESIDENTIAL UNITS', 'COMMERCIAL UNITS', 'TOTAL UNITS',\n",
      "       'LAND SQUARE FEET', 'GROSS SQUARE FEET', 'YEAR BUILT',\n",
      "       'TAX CLASS AT TIME OF SALE', 'BUILDING CLASS AT TIME OF SALE',\n",
      "       ' SALE PRICE ', 'SALE DATE'],\n",
      "      dtype='object')\n",
      "   BOROUGH   NEIGHBORHOOD  BUILDING CLASS CATEGORY TAX CLASS AT PRESENT  \\\n",
      "0      1.0  ALPHABET CITY  01 ONE FAMILY DWELLINGS                    1   \n",
      "1      1.0  ALPHABET CITY  01 ONE FAMILY DWELLINGS                    1   \n",
      "2      1.0  ALPHABET CITY  02 TWO FAMILY DWELLINGS                    1   \n",
      "3      1.0  ALPHABET CITY  02 TWO FAMILY DWELLINGS                    1   \n",
      "4      1.0  ALPHABET CITY  02 TWO FAMILY DWELLINGS                    1   \n",
      "\n",
      "   BLOCK   LOT  EASE-MENT BUILDING CLASS AT PRESENT              ADDRESS  \\\n",
      "0  376.0  43.0        NaN                        S1  743 EAST 6TH STREET   \n",
      "1  400.0  19.0        NaN                        A4  526 EAST 5TH STREET   \n",
      "2  404.0   1.0        NaN                        B9         166 AVENUE A   \n",
      "3  404.0   1.0        NaN                        B9         166 AVENUE A   \n",
      "4  404.0   1.0        NaN                        B9         166 AVENUE A   \n",
      "\n",
      "  APARTMENT NUMBER  ...  RESIDENTIAL UNITS  COMMERCIAL UNITS  TOTAL UNITS  \\\n",
      "0              NaN  ...                1.0               1.0          2.0   \n",
      "1              NaN  ...                1.0               0.0          1.0   \n",
      "2              NaN  ...                2.0               0.0          2.0   \n",
      "3              NaN  ...                2.0               0.0          2.0   \n",
      "4              NaN  ...                2.0               0.0          2.0   \n",
      "\n",
      "   LAND SQUARE FEET GROSS SQUARE FEET YEAR BUILT  TAX CLASS AT TIME OF SALE  \\\n",
      "0             2,090             3,680     1940.0                        1.0   \n",
      "1             1,883             5,200     1900.0                        1.0   \n",
      "2             1,510             4,520     1900.0                        1.0   \n",
      "3             1,510             4,520     1900.0                        1.0   \n",
      "4             1,510             4,520     1900.0                        1.0   \n",
      "\n",
      "   BUILDING CLASS AT TIME OF SALE  SALE PRICE  SALE DATE  \n",
      "0                              S1    3,200,000   7/24/19  \n",
      "1                              A4    6,100,000   12/3/18  \n",
      "2                              B9            0   7/22/19  \n",
      "3                              B9            0  11/29/18  \n",
      "4                              B9            0  11/29/18  \n",
      "\n",
      "[5 rows x 21 columns]\n",
      "       BOROUGH             NEIGHBORHOOD          BUILDING CLASS CATEGORY  \\\n",
      "13502      1.0  UPPER EAST SIDE (79-96)  13 CONDOS - ELEVATOR APARTMENTS   \n",
      "3766       1.0   GREENWICH VILLAGE-WEST     09 COOPS - WALKUP APARTMENTS   \n",
      "4867       1.0           HARLEM-CENTRAL  13 CONDOS - ELEVATOR APARTMENTS   \n",
      "15651      1.0  UPPER WEST SIDE (79-96)   10 COOPS - ELEVATOR APARTMENTS   \n",
      "12944      1.0  UPPER EAST SIDE (79-96)   10 COOPS - ELEVATOR APARTMENTS   \n",
      "\n",
      "      TAX CLASS AT PRESENT   BLOCK     LOT  EASE-MENT  \\\n",
      "13502                    2  1537.0  2123.0        NaN   \n",
      "3766                     2   603.0     1.0        NaN   \n",
      "4867                     2  1959.0  1089.0        NaN   \n",
      "15651                    2  1196.0    29.0        NaN   \n",
      "12944                    2  1533.0   122.0        NaN   \n",
      "\n",
      "      BUILDING CLASS AT PRESENT                      ADDRESS APARTMENT NUMBER  \\\n",
      "13502                        R4            1641 3 AVENUE, 5H               5H   \n",
      "3766                         C6    626 WASHINGTON STREET, 4B              NaN   \n",
      "4867                         R4     300 WEST 135 STREET, 10H              10H   \n",
      "15651                        D4  225 CENTRAL PARK WEST, 1610              NaN   \n",
      "12944                        D4    235 EAST 87TH STREET, 11J              NaN   \n",
      "\n",
      "       ...  RESIDENTIAL UNITS  COMMERCIAL UNITS  TOTAL UNITS  \\\n",
      "13502  ...                NaN               NaN          NaN   \n",
      "3766   ...                NaN               NaN          NaN   \n",
      "4867   ...                NaN               NaN          NaN   \n",
      "15651  ...                NaN               NaN          NaN   \n",
      "12944  ...                NaN               NaN          NaN   \n",
      "\n",
      "       LAND SQUARE FEET GROSS SQUARE FEET YEAR BUILT  \\\n",
      "13502               NaN             1,158        0.0   \n",
      "3766                NaN               NaN     1960.0   \n",
      "4867                NaN             1,054     2003.0   \n",
      "15651               NaN               NaN     1926.0   \n",
      "12944               NaN               NaN     1962.0   \n",
      "\n",
      "       TAX CLASS AT TIME OF SALE  BUILDING CLASS AT TIME OF SALE  SALE PRICE   \\\n",
      "13502                        2.0                              R4            0   \n",
      "3766                         2.0                              C6    1,025,000   \n",
      "4867                         2.0                              R4            0   \n",
      "15651                        2.0                              D4      400,000   \n",
      "12944                        2.0                              D4      987,500   \n",
      "\n",
      "      SALE DATE  \n",
      "13502    7/2/19  \n",
      "3766    1/17/19  \n",
      "4867    7/17/19  \n",
      "15651  11/12/18  \n",
      "12944   1/15/19  \n",
      "\n",
      "[5 rows x 21 columns]\n",
      "       BOROUGH NEIGHBORHOOD BUILDING CLASS CATEGORY TAX CLASS AT PRESENT  \\\n",
      "17527      NaN          NaN                     NaN                  NaN   \n",
      "17528      NaN          NaN                     NaN                  NaN   \n",
      "17529      NaN          NaN                     NaN                  NaN   \n",
      "17530      NaN          NaN                     NaN                  NaN   \n",
      "17531      NaN          NaN                     NaN                  NaN   \n",
      "\n",
      "       BLOCK  LOT  EASE-MENT BUILDING CLASS AT PRESENT ADDRESS  \\\n",
      "17527    NaN  NaN        NaN                       NaN     NaN   \n",
      "17528    NaN  NaN        NaN                       NaN     NaN   \n",
      "17529    NaN  NaN        NaN                       NaN     NaN   \n",
      "17530    NaN  NaN        NaN                       NaN     NaN   \n",
      "17531    NaN  NaN        NaN                       NaN     NaN   \n",
      "\n",
      "      APARTMENT NUMBER  ...  RESIDENTIAL UNITS  COMMERCIAL UNITS  TOTAL UNITS  \\\n",
      "17527              NaN  ...                NaN               NaN          NaN   \n",
      "17528              NaN  ...                NaN               NaN          NaN   \n",
      "17529              NaN  ...                NaN               NaN          NaN   \n",
      "17530              NaN  ...                NaN               NaN          NaN   \n",
      "17531              NaN  ...                NaN               NaN          NaN   \n",
      "\n",
      "       LAND SQUARE FEET GROSS SQUARE FEET YEAR BUILT  \\\n",
      "17527               NaN               NaN        NaN   \n",
      "17528               NaN               NaN        NaN   \n",
      "17529               NaN               NaN        NaN   \n",
      "17530               NaN               NaN        NaN   \n",
      "17531               NaN               NaN        NaN   \n",
      "\n",
      "       TAX CLASS AT TIME OF SALE  BUILDING CLASS AT TIME OF SALE  SALE PRICE   \\\n",
      "17527                        NaN                             NaN          NaN   \n",
      "17528                        NaN                             NaN          NaN   \n",
      "17529                        NaN                             NaN          NaN   \n",
      "17530                        NaN                             NaN          NaN   \n",
      "17531                        NaN                             NaN          NaN   \n",
      "\n",
      "      SALE DATE  \n",
      "17527       NaN  \n",
      "17528       NaN  \n",
      "17529       NaN  \n",
      "17530       NaN  \n",
      "17531       NaN  \n",
      "\n",
      "[5 rows x 21 columns]\n"
     ]
    }
   ],
   "source": [
    "print(DataFrame.columns)\n",
    "print(DataFrame.head(5))\n",
    "print(DataFrame.sample(n = 5))\n",
    "print(DataFrame.tail(5))"
   ]
  },
  {
   "cell_type": "markdown",
   "metadata": {},
   "source": [
    "#### 3. describe the rows and data types"
   ]
  },
  {
   "cell_type": "code",
   "execution_count": 3,
   "metadata": {},
   "outputs": [
    {
     "name": "stdout",
     "output_type": "stream",
     "text": [
      "BOROUGH                           float64\n",
      "NEIGHBORHOOD                       object\n",
      "BUILDING CLASS CATEGORY            object\n",
      "TAX CLASS AT PRESENT               object\n",
      "BLOCK                             float64\n",
      "LOT                               float64\n",
      "EASE-MENT                         float64\n",
      "BUILDING CLASS AT PRESENT          object\n",
      "ADDRESS                            object\n",
      "APARTMENT NUMBER                   object\n",
      "ZIP CODE                          float64\n",
      "RESIDENTIAL UNITS                 float64\n",
      "COMMERCIAL UNITS                  float64\n",
      "TOTAL UNITS                       float64\n",
      "LAND SQUARE FEET                   object\n",
      "GROSS SQUARE FEET                  object\n",
      "YEAR BUILT                        float64\n",
      "TAX CLASS AT TIME OF SALE         float64\n",
      "BUILDING CLASS AT TIME OF SALE     object\n",
      " SALE PRICE                        object\n",
      "SALE DATE                          object\n",
      "dtype: object\n",
      "BOROUGH                           17159\n",
      "NEIGHBORHOOD                      17159\n",
      "BUILDING CLASS CATEGORY           17159\n",
      "TAX CLASS AT PRESENT              17088\n",
      "BLOCK                             17159\n",
      "LOT                               17159\n",
      "EASE-MENT                             0\n",
      "BUILDING CLASS AT PRESENT         17088\n",
      "ADDRESS                           17159\n",
      "APARTMENT NUMBER                   8213\n",
      "ZIP CODE                          17088\n",
      "RESIDENTIAL UNITS                  1783\n",
      "COMMERCIAL UNITS                   1783\n",
      "TOTAL UNITS                        1783\n",
      "LAND SQUARE FEET                   1903\n",
      "GROSS SQUARE FEET                 10012\n",
      "YEAR BUILT                        17088\n",
      "TAX CLASS AT TIME OF SALE         17159\n",
      "BUILDING CLASS AT TIME OF SALE    17159\n",
      " SALE PRICE                       17159\n",
      "SALE DATE                         17159\n",
      "dtype: int64\n"
     ]
    }
   ],
   "source": [
    "print(DataFrame.dtypes)\n",
    "print(DataFrame.notna().sum())"
   ]
  },
  {
   "cell_type": "markdown",
   "metadata": {},
   "source": [
    "* APARTMENT NUMBER: float64\n",
    "* LAND SQUARE FEET: float64\n",
    "* GROSS SQUARE FEET: float64\n",
    "* YEAR BUILT: datetime64\n",
    "* SALE PRICE: float64\n",
    "* SALE DATE: datetime64\n",
    "1. Transforming SALE PRICE to float64 is necessary for instruction 7, 8 and 9.\n",
    "2. Transforming GROSS SQUARE FEET to float64 is necessary for instruction 9.\n",
    "3. Transforming SALE DATE to datetime64 is necessary for instruction 10."
   ]
  },
  {
   "cell_type": "markdown",
   "metadata": {},
   "source": [
    "#### 4. initial column (or row) clean-up"
   ]
  },
  {
   "cell_type": "code",
   "execution_count": 4,
   "metadata": {},
   "outputs": [
    {
     "name": "stdout",
     "output_type": "stream",
     "text": [
      "1.0    17159\n",
      "Name: BOROUGH, dtype: int64\n",
      "True    17532\n",
      "Name: EASE-MENT, dtype: int64\n"
     ]
    }
   ],
   "source": [
    "BOROUGH_BOROUGH_value_counts = DataFrame[\"BOROUGH\"].value_counts()\n",
    "EASE_MENT_value_counts = DataFrame [\"EASE-MENT\"].isna().value_counts()\n",
    "print(BOROUGH_BOROUGH_value_counts)\n",
    "print(EASE_MENT_value_counts)\n",
    "del DataFrame[\"BOROUGH\"]\n",
    "del DataFrame [\"EASE-MENT\"]"
   ]
  },
  {
   "cell_type": "markdown",
   "metadata": {},
   "source": [
    "* BOROUGH and EASE-MENT columns should be removed: every rows have BOROUGH values 1.0, which are not useful; every rows have EASE-MENT values NaN, which are empty."
   ]
  },
  {
   "cell_type": "code",
   "execution_count": 5,
   "metadata": {},
   "outputs": [],
   "source": [
    "DataFrame.rename({' SALE PRICE ': \"SALE PRICE\"}, axis='columns', inplace = True)\n",
    "DataFrame[\"SALE PRICE\"] = DataFrame[\"SALE PRICE\"].fillna(-1.0).str.replace(',', '').astype(\"float64\")\n",
    "DataFrame[\"GROSS SQUARE FEET\"] = DataFrame[\"GROSS SQUARE FEET\"].fillna(-1.0).str.replace(',', '').astype(\"float64\")\n",
    "DataFrame[\"SALE DATE\"] = pd.to_datetime(DataFrame[\"SALE DATE\"].str[0:-3], format=\"%m/%d\")"
   ]
  },
  {
   "cell_type": "markdown",
   "metadata": {},
   "source": [
    "1. I rename the ' SALE PRICE ' column to 'SALE PRICE'; the spaces at the front and end are untidy.\n",
    "2. I fill in the empty values in SALE PRICE column with -1.0, then convert all the values to float64 type. Since there are commas in the values, I remove the commas first.\n",
    "3. I fill in the empty values in LAND SQUARE FEET column with '-1', then convert all the values to float64 type. Since there are commas in the values, I remove the commas first.\n",
    "4. I convert the values in SALE DATE column to datetime64 type. Since the years of each values only have two digits and not specified, I just remove them. I leave NaN still NaN for this column."
   ]
  },
  {
   "cell_type": "markdown",
   "metadata": {},
   "source": [
    "#### 5. determine the top three neighborhoods that had the most properties sold (no need to calculate units, the actual number of properties is adequate)"
   ]
  },
  {
   "cell_type": "code",
   "execution_count": 6,
   "metadata": {
    "scrolled": true
   },
   "outputs": [
    {
     "name": "stdout",
     "output_type": "stream",
     "text": [
      "UPPER EAST SIDE (59-79)    1696\n",
      "UPPER EAST SIDE (79-96)    1629\n",
      "UPPER WEST SIDE (59-79)    1499\n",
      "Name: NEIGHBORHOOD, dtype: int64\n"
     ]
    }
   ],
   "source": [
    "print(DataFrame[\"NEIGHBORHOOD\"].value_counts()[0:3])"
   ]
  },
  {
   "cell_type": "markdown",
   "metadata": {},
   "source": [
    "1. I select the NEIGHBORHOOD column and use value_counts() which would return a dataframe of the frequencies of different values. Finally, I print out the first three rows of the dataframe."
   ]
  },
  {
   "cell_type": "markdown",
   "metadata": {},
   "source": [
    "#### 6. describe the kind of buildings that were sold"
   ]
  },
  {
   "cell_type": "code",
   "execution_count": 7,
   "metadata": {},
   "outputs": [
    {
     "data": {
      "image/png": "[encoded data removed]",
      "text/plain": [
       "<Figure size 432x288 with 1 Axes>"
      ]
     },
     "metadata": {
      "needs_background": "light"
     },
     "output_type": "display_data"
    }
   ],
   "source": [
    "import matplotlib.pyplot as plt\n",
    "condition_A = DataFrame[\"BUILDING CLASS AT TIME OF SALE\"].str[0] == \"A\"\n",
    "condition_O = DataFrame[\"BUILDING CLASS AT TIME OF SALE\"].str[0] == \"O\"\n",
    "condition_R = DataFrame[\"BUILDING CLASS AT TIME OF SALE\"].str[0] == \"R\"\n",
    "condition_Others = ~(condition_A | condition_O | condition_R) \n",
    "num_A = condition_A.sum()\n",
    "num_O = condition_O.sum()\n",
    "num_R = condition_R.sum()\n",
    "num_Others = condition_Others.sum()\n",
    "list_kind = [\"one family homes\", \"office buildings\", \"condominiums\", \"others\"]\n",
    "list_num = [num_A, num_O, num_R, num_Others]\n",
    "plt.bar(list_kind, list_num)\n",
    "plt.title(\"Numbers of Different Kinds of Buildings That Were Sold\")\n",
    "plt.ylabel(\"Numbers\")\n",
    "plt.xticks(rotation=30)\n",
    "plt.show()"
   ]
  },
  {
   "cell_type": "markdown",
   "metadata": {},
   "source": [
    "1. I import the matplotlib module, because I need to do visualization.\n",
    "2. I set up four series of conditions that can determine what kind of housing one belongs to. Four series of conditions include: one family homes or not, office buildings or not, condominiums or not, and others\n",
    "3. Because True is one and False is zero, I directly take the sum of the four series, and the number is the number of True.\n",
    "4. Then I build up two list as x axis and y axis of the plot.\n",
    "5. Because we want to visualize catagorical data, bar plot is an ideal plot.\n",
    "6. Some plot fashions of labeling and beautifying."
   ]
  },
  {
   "cell_type": "markdown",
   "metadata": {},
   "source": [
    "#### 7. calculate summary statistics for the prices of properties sold for all of Manhattan and for a couple of select neighborhoods"
   ]
  },
  {
   "cell_type": "code",
   "execution_count": 8,
   "metadata": {},
   "outputs": [
    {
     "name": "stdout",
     "output_type": "stream",
     "text": [
      "Summary of Price of Properties Sold for All of Manhattan\n",
      "count    1.349300e+04\n",
      "mean     4.362192e+06\n",
      "std      2.933454e+07\n",
      "min      1.000000e+00\n",
      "25%      6.840000e+05\n",
      "50%      1.248000e+06\n",
      "75%      2.650328e+06\n",
      "max      2.155000e+09\n",
      "Name: SALE PRICE, dtype: float64 \n",
      "\n",
      "Summary of Price of Properties Sold for Chinatown\n",
      "count         118.000000\n",
      "mean      3429406.330508\n",
      "std       5309798.681491\n",
      "min            10.000000\n",
      "25%        690884.750000\n",
      "50%       1310572.500000\n",
      "75%       3837012.500000\n",
      "max      30000000.000000\n",
      "Name: SALE PRICE, dtype: object \n",
      "\n",
      "Summary of Price of Properties Sold for Tribeca\n",
      "count          425.000000\n",
      "mean       7875725.912941\n",
      "std       23363175.041690\n",
      "min             10.000000\n",
      "25%        1610000.000000\n",
      "50%        3835000.000000\n",
      "75%        6922500.000000\n",
      "max      352000000.000000\n",
      "Name: SALE PRICE, dtype: object \n",
      "\n"
     ]
    }
   ],
   "source": [
    "sale_price_all = DataFrame[DataFrame[\"SALE PRICE\"] > 0]\n",
    "print(\"Summary of Price of Properties Sold for All of Manhattan\")\n",
    "print(sale_price_all[\"SALE PRICE\"].describe(), \"\\n\")\n",
    "sale_price_CHINATOWN = sale_price_all[(sale_price_all[\"NEIGHBORHOOD\"] == \"CHINATOWN\")]\n",
    "sale_price_TRIBECA = sale_price_all[(sale_price_all[\"NEIGHBORHOOD\"] == \"TRIBECA\")]\n",
    "print(\"Summary of Price of Properties Sold for Chinatown\")\n",
    "print(sale_price_CHINATOWN[\"SALE PRICE\"].describe().apply(lambda x: format(x, 'f')), \"\\n\")\n",
    "print(\"Summary of Price of Properties Sold for Tribeca\")\n",
    "print(sale_price_TRIBECA[\"SALE PRICE\"].describe().apply(lambda x: format(x, 'f')), \"\\n\")"
   ]
  },
  {
   "cell_type": "markdown",
   "metadata": {},
   "source": [
    "* More properties are sold in Tribeca (425) than Chinatown (118).\n",
    "* The mean price of sold in Tribeca (7875725.912941) is much higher than that of Chinatown (3429406.330508).\n",
    "* The median price of sold in Tribeca (3835000) is higher than that of Chinatown (1310572.5).\n",
    "* The 25 percentile price of sold in Tribeca (1610000) is higher than that of Chinatown (690884.75).\n",
    "* The 75 percentile price of sold in Tribeca (6922500) is higher than that of Chinatown (3837012.5).\n",
    "* The max price of sold in Tribeca (352000000) is higher than that of Chinatown (30000000).\n",
    "* The min price of sold in Tribeca (10) is equal to that of Chinatown (10)."
   ]
  },
  {
   "cell_type": "markdown",
   "metadata": {},
   "source": [
    "1. First, I filter the data of price of sold, the numbers of 0s (indicate the transfer of ownership) and 1s (indicate NaN) are gotten rid of, saved as sale_price_all.\n",
    "2. The I print out the column SALE PRICE after describe(), which helps me calculate  mean, median, percentiles (25 and 75), max, and min.\n",
    "3. Then I filter out NEIGHBORHOOD column with value CHINATOWN, saved in variable sale_price_CHINATOWN.\n",
    "4. Then I filter out NEIGHBORHOOD column with value TRIBECA, saved in variable sale_price_CHINATOWN sale_price_TRIBECA.\n",
    "5. Repeat using describe() and print out."
   ]
  },
  {
   "cell_type": "markdown",
   "metadata": {},
   "source": [
    "#### 8. bin the prices of properties sold"
   ]
  },
  {
   "cell_type": "code",
   "execution_count": 9,
   "metadata": {},
   "outputs": [
    {
     "data": {
      "image/png": "[encoded data removed]",
      "text/plain": [
       "<Figure size 432x288 with 1 Axes>"
      ]
     },
     "metadata": {
      "needs_background": "light"
     },
     "output_type": "display_data"
    },
    {
     "data": {
      "image/png": "[encoded data removed]",
      "text/plain": [
       "<Figure size 432x288 with 1 Axes>"
      ]
     },
     "metadata": {
      "needs_background": "light"
     },
     "output_type": "display_data"
    },
    {
     "data": {
      "image/png": "[encoded data removed]",
      "text/plain": [
       "<Figure size 432x288 with 1 Axes>"
      ]
     },
     "metadata": {
      "needs_background": "light"
     },
     "output_type": "display_data"
    }
   ],
   "source": [
    "bins_width_all = (sale_price_all[\"SALE PRICE\"].max()-sale_price_all[\"SALE PRICE\"].min()) / 5\n",
    "min_all = sale_price_all[\"SALE PRICE\"].min()\n",
    "max_all = sale_price_all[\"SALE PRICE\"].max()\n",
    "bins_price_all = [min_all, min_all+bins_width_all, min_all+2*bins_width_all, min_all+3*bins_width_all, min_all+4*bins_width_all, max_all]\n",
    "\n",
    "bins_width_CHINATOWN = (sale_price_CHINATOWN[\"SALE PRICE\"].max()-sale_price_CHINATOWN[\"SALE PRICE\"].min()) / 5\n",
    "min_CHINATOWN = sale_price_CHINATOWN[\"SALE PRICE\"].min()\n",
    "max_CHINATOWN = sale_price_CHINATOWN[\"SALE PRICE\"].max()\n",
    "bins_price_CHINATOWN = [min_CHINATOWN, min_CHINATOWN+bins_width_CHINATOWN, min_CHINATOWN+2*bins_width_CHINATOWN, min_CHINATOWN+3*bins_width_CHINATOWN, min_CHINATOWN+4*bins_width_CHINATOWN, max_CHINATOWN]\n",
    "\n",
    "bins_width_TRIBECA = (sale_price_TRIBECA[\"SALE PRICE\"].max()-sale_price_TRIBECA[\"SALE PRICE\"].min()) / 5\n",
    "min_TRIBECA = sale_price_TRIBECA[\"SALE PRICE\"].min()\n",
    "max_TRIBECA = sale_price_TRIBECA[\"SALE PRICE\"].max()\n",
    "bins_price_TRIBECA = [min_TRIBECA, min_TRIBECA+bins_width_TRIBECA, min_TRIBECA+2*bins_width_TRIBECA, min_TRIBECA+3*bins_width_TRIBECA, min_TRIBECA+4*bins_width_TRIBECA, max_TRIBECA]\n",
    "\n",
    "labels = [\"0-0.2\", \"0.2-0.4\", \"0.4-0.6\", \"0.6-0.8\", \"0.8-1.0\"]\n",
    "\n",
    "sale_price_all_binned = pd.cut(sale_price_all[\"SALE PRICE\"], bins_price_all, labels = labels)\n",
    "sale_price_all_binned_counted = sale_price_all_binned.value_counts().sort_index(ascending = True)\n",
    "plt.bar(sale_price_all_binned_counted.index, sale_price_all_binned_counted.values)\n",
    "plt.title(\"Properties Price in Manhattan\")\n",
    "plt.ylabel(\"Numbers of Sales\")\n",
    "plt.show()\n",
    "\n",
    "sale_price_CHINATOWN_binned = pd.cut(sale_price_CHINATOWN[\"SALE PRICE\"], bins_price_CHINATOWN, labels = labels)\n",
    "sale_price_CHINATOWN_binned_counted = sale_price_CHINATOWN_binned.value_counts().sort_index(ascending = True)\n",
    "plt.bar(sale_price_CHINATOWN_binned_counted.index, sale_price_CHINATOWN_binned_counted.values)\n",
    "plt.title(\"Properties Price in Chinatown\")\n",
    "plt.ylabel(\"Numbers of Sales\")\n",
    "plt.show()\n",
    "\n",
    "sale_price_TRIBECA_binned = pd.cut(sale_price_TRIBECA[\"SALE PRICE\"], bins_price_TRIBECA, labels = labels)\n",
    "sale_price_TRIBECA_counted = sale_price_TRIBECA_binned.value_counts().sort_index(ascending = True)\n",
    "plt.bar(sale_price_TRIBECA_counted.index, sale_price_TRIBECA_counted.values)\n",
    "plt.title(\"Properties Price in Tribeca\")\n",
    "plt.ylabel(\"Numbers of Sales\")\n",
    "plt.show()"
   ]
  },
  {
   "cell_type": "markdown",
   "metadata": {},
   "source": [
    "* The plots look very skewed; the majority of the prices of properties is within the first bins (min value + (max - min)/5).\n",
    "* We might need to change the bins regarding the maximum value looks like an outlier, since the last four bars are much less visible than the first bars in each plots. (maybe the plots would be less skewed if we expand the first bins of each plots). \n",
    "* I can remove what considered \"outliers\" and then reassign bins, such that the plots could be prettier. "
   ]
  },
  {
   "cell_type": "markdown",
   "metadata": {},
   "source": [
    "#### 9. create a visualization the shows the relationship (if any) between the price sold and the number of square footage of all the areas of a property within a building or a structure"
   ]
  },
  {
   "cell_type": "code",
   "execution_count": 10,
   "metadata": {},
   "outputs": [
    {
     "data": {
      "image/png": "[encoded data removed]",
      "text/plain": [
       "<Figure size 432x288 with 1 Axes>"
      ]
     },
     "metadata": {
      "needs_background": "light"
     },
     "output_type": "display_data"
    },
    {
     "name": "stdout",
     "output_type": "stream",
     "text": [
      "Correlation Coefficient: 0.5128747488123937\n"
     ]
    }
   ],
   "source": [
    "from scipy import stats\n",
    "import numpy as np\n",
    "sale_price_footage_all = sale_price_all[sale_price_all[\"GROSS SQUARE FEET\"].notna()]\n",
    "z_scores_price = stats.zscore(sale_price_footage_all[\"SALE PRICE\"])\n",
    "z_scores_footage = stats.zscore(sale_price_footage_all[sale_price_footage_all[\"GROSS SQUARE FEET\"].notna()][\"GROSS SQUARE FEET\"])\n",
    "abs_z_scores_price = np.abs(z_scores_price)\n",
    "abs_z_scores_footage = np.abs(z_scores_footage)\n",
    "sale_price_footage_all_trimmed = sale_price_footage_all[(abs_z_scores_price < 3) & (abs_z_scores_footage < 3)]\n",
    "plt.scatter(sale_price_footage_all_trimmed[\"SALE PRICE\"], sale_price_footage_all_trimmed[\"GROSS SQUARE FEET\"], alpha = 0.5)\n",
    "plt.title(\"Price Sold VS Number of Square Footage\")\n",
    "plt.xlabel(\"Price Sold\")\n",
    "plt.ylabel(\"Number of Square Footage\")\n",
    "plt.show()\n",
    "print(\"Correlation Coefficient:\", sale_price_footage_all_trimmed[\"SALE PRICE\"].corr(sale_price_footage_all_trimmed[\"GROSS SQUARE FEET\"]))"
   ]
  },
  {
   "cell_type": "markdown",
   "metadata": {},
   "source": [
    "1. I exclude all rows with NaN LAND SQUARE FEET values.\n",
    "2. I use z score to trim down the outliers.\n",
    "3. I use scatter plot to visualize the relation.\n",
    "4. There is a positive relation between two columns, after calculating correlation coeffient, the relation is moderately strong."
   ]
  },
  {
   "cell_type": "markdown",
   "metadata": {},
   "source": [
    "#### 10. which month did the least amount of sales occur"
   ]
  },
  {
   "cell_type": "code",
   "execution_count": 11,
   "metadata": {},
   "outputs": [
    {
     "data": {
      "image/png": "[encoded data removed]",
      "text/plain": [
       "<Figure size 432x288 with 1 Axes>"
      ]
     },
     "metadata": {
      "needs_background": "light"
     },
     "output_type": "display_data"
    }
   ],
   "source": [
    "import calendar\n",
    "abbrs = dict((k, v) for k, v in enumerate(calendar.month_abbr))\n",
    "month_value_counts = DataFrame[\"SALE DATE\"].dt.month.value_counts()\n",
    "month_value_counts.rename(index = abbrs, inplace = True)\n",
    "plt.bar(month_value_counts.index, month_value_counts)\n",
    "plt.xlabel(\"Month\")\n",
    "plt.ylabel(\"Amount of Sales\")\n",
    "plt.title(\"Month VS Amount of Sales\")\n",
    "plt.show()"
   ]
  },
  {
   "cell_type": "markdown",
   "metadata": {},
   "source": [
    "* August could be the time that property sales reaches a lull."
   ]
  },
  {
   "cell_type": "markdown",
   "metadata": {},
   "source": [
    "1. I make a dictionary of month, numeric to string.\n",
    "2. Then count the numbers of each months and convert the month representations from numbers to strings.\n",
    "3. Make a bar plot."
   ]
  },
  {
   "cell_type": "code",
   "execution_count": null,
   "metadata": {},
   "outputs": [],
   "source": []
  }
 ],
 "metadata": {
  "kernelspec": {
   "display_name": "Python 3",
   "language": "python",
   "name": "python3"
  },
  "language_info": {
   "codemirror_mode": {
    "name": "ipython",
    "version": 3
   },
   "file_extension": ".py",
   "mimetype": "text/x-python",
   "name": "python",
   "nbconvert_exporter": "python",
   "pygments_lexer": "ipython3",
   "version": "3.8.5"
  }
 },
 "nbformat": 4,
 "nbformat_minor": 4
}
