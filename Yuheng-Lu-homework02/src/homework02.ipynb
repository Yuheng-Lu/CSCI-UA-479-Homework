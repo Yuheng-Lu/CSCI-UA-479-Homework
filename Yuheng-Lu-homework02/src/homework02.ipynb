{
 "cells": [
  {
   "cell_type": "markdown",
   "id": "f1777105",
   "metadata": {},
   "source": [
    "# Homework 02"
   ]
  },
  {
   "cell_type": "markdown",
   "id": "8c5ec1b0",
   "metadata": {},
   "source": [
    "\n",
    "## Part 1 - Questions\n",
    "\n",
    "### Question 1: \n",
    "\n",
    "How long do Citi Bike riders ride in August, 2021 in Jersey City (mean, max, min, and the general distribution)?\n",
    "\n",
    "* Who (population): Jersey City Citi Bike riders.\n",
    "* What (subject, discipline): Distribution of bike trips length, mean, median, max, min length of bike trips.\n",
    "* Where (location): Jersey City.\n",
    "* When (snapshot, longitudinal): August, 2021.\n",
    "* How much data do you need to do the analysis/work: The data should be in a reasonable size; if there is not too much data, my conclusion could be weak.\n",
    "\n",
    "### Question 2: \n",
    "\n",
    "Where is the most popular start stations and end stations in Jersey City in August, 2021? Are they the same?\n",
    "\n",
    "* Who (population): Jersey City Citi Bike Rider\n",
    "* What (subject, discipline): Most popular start/end station\n",
    "* Where (location): Jersey City\n",
    "* When (snapshot, longitudinal): August, 2021\n",
    "* How much data do you need to do the analysis/work: The data should be in a reasonable size; if there is not too much data, my conclusion could be weak.\n",
    "\n",
    "### Who Might Collect Relevant Data / What Articles or Publications Cite a Relevant Data Set?\n",
    "\n",
    "I found Citi Bike reports its histories data at https://ride.citibikenyc.com/system-data every month."
   ]
  },
  {
   "cell_type": "markdown",
   "id": "ca4355eb",
   "metadata": {},
   "source": [
    "## Part 2 - Selecting a Data Set, Adding Documentation\n",
    "\n",
    "\n",
    "\n",
    "1. Name / Title: JC-202108-citibike-tripdata\n",
    "2. Link to Data: https://s3.amazonaws.com/tripdata/JC-202108-citibike-tripdata.csv.zip\n",
    "3. Source / Origin: \n",
    "\t* Author or Creator: Bikeshare\n",
    "\t* Publication Date: Sep 9th, 2021\n",
    "\t* Publisher: Bikeshare\n",
    "\t* Version or Data Accessed: 1.0 (the version is not listed, so I assume it as Ver 1.0)\n",
    "4. License: Citi Bike Data License Agreement https://ride.citibikenyc.com/data-sharing-policy\n",
    "5. Can You Use this Data Set for Your Intended Use Case? Yes."
   ]
  },
  {
   "cell_type": "markdown",
   "id": "549693d7",
   "metadata": {},
   "source": [
    "## Format\n",
    "\n"
   ]
  },
  {
   "cell_type": "markdown",
   "id": "684e56e7",
   "metadata": {},
   "source": [
    "\n",
    "### Overview\n",
    "\n",
    "* Format: CSV\n",
    "* Size: 18.1 MB\n",
    "* Number of Records: 93800 rows\n",
    " \n",
    "\n"
   ]
  },
  {
   "cell_type": "markdown",
   "id": "168f51cd",
   "metadata": {},
   "source": [
    "### Sample of Data\n",
    "\n",
    "\n"
   ]
  },
  {
   "cell_type": "code",
   "execution_count": 95,
   "id": "c05d2b5b",
   "metadata": {},
   "outputs": [
    {
     "name": "stdout",
     "output_type": "stream",
     "text": [
      "['ride_id', 'rideable_type', 'started_at', 'ended_at', 'start_station_name', 'start_station_id', 'end_station_name', 'end_station_id', 'start_lat', 'start_lng', 'end_lat', 'end_lng', 'member_casual']\n",
      "['5CABAE380FF3C7E0', 'classic_bike', '2021-08-06 07:02:02', '2021-08-06 07:28:56', 'Dey St', 'JC065', 'Stevens - River Ter & 6 St', 'HB602', '40.737711', '-74.066921', '40.74313282710551', '-74.02698867022991', 'casual']\n",
      "['0C820F4E9256B5BB', 'classic_bike', '2021-08-15 19:48:51', '2021-08-15 20:04:45', 'Grand St & 2 St', 'HB405', 'Jersey & 3rd', 'JC074', '40.73913', '-74.03618', '40.72333158646436', '-74.04595255851744', 'member']\n"
     ]
    }
   ],
   "source": [
    "# TODO show a few lines of data from the actual file\n",
    "\n",
    "# Use \"regular\" Python to do this in this code block\n",
    "# Assume that jupyter-lab was started in your root directory\n",
    "# with open('./data/raw/example-data.csv', 'r'): \n",
    "import csv\n",
    "with open('../data/raw/JC-202108-citibike-tripdata.csv') as f: \n",
    "    reader = csv.reader(f)\n",
    "    row1 = next(reader)\n",
    "    row2 = next(reader)\n",
    "    row3 = next(reader)\n",
    "    print(row1)\n",
    "    print(row2)\n",
    "    print(row3)"
   ]
  },
  {
   "cell_type": "markdown",
   "id": "6b020472",
   "metadata": {},
   "source": [
    "\n",
    "### Fields or Column Headers\n",
    "\n",
    "* Field/Column 1: ride_id, string.\n",
    "* Field/Column 2: rideable_type, string.\n",
    "* Field/Column 3: **started_at**, the original data type is string, but I will convert it to datetime and then numeric.\n",
    "* Field/Column 4: **ended_at**, the original data type is string, but I will convert it to datetime and then numeric.\n",
    "* Field/Column 5: **start_station_name**, string.\n",
    "* Field/Column 6: start_station_id, string.\n",
    "* Field/Column 7: **end_station_name**, string.\n",
    "* Field/Column 8: end_station_id, string.\n",
    "* Field/Column 9: start_lat, string.\n",
    "* Field/Column 10: start_lng, string.\n",
    "* Field/Column 11: end_lat, string.\n",
    "* Field/Column 12: end_lng, string.\n",
    "* Field/Column 13: member_casual, string."
   ]
  },
  {
   "cell_type": "markdown",
   "id": "83f93ac8",
   "metadata": {},
   "source": [
    "## Part 3 - Extract / Transform\n",
    "\n",
    "* I will use four columns: start_station_name, end_station_name, started_at, and ended_at.\n",
    "* Since I need bike riding duration, I will need to make calculations on started_at and ended_at. These two columns are string types originally. To make the calculation easier, I will convert them to datetime objects, and then calculate the interval between start and end, which would be the duration.\n",
    "* I will remove the data with duration smaller than zero. These data are errorous, since people cannot make the starting time later than the ending time."
   ]
  },
  {
   "cell_type": "code",
   "execution_count": 96,
   "id": "95074748",
   "metadata": {},
   "outputs": [],
   "source": [
    "# TODO write code here!\n",
    "import csv\n",
    "from datetime import datetime\n",
    "pop_start_station = {}\n",
    "pop_end_station = {}\n",
    "duration_lst = []\n",
    "with open('../data/raw/JC-202108-citibike-tripdata.csv') as f:\n",
    "    reader = csv.reader(f)\n",
    "    next(reader, None)\n",
    "    for row in reader:\n",
    "        if row[4] in pop_start_station:\n",
    "            pop_start_station[row[4]] += 1\n",
    "        elif row[4] not in pop_start_station:\n",
    "            pop_start_station[row[4]] = 0\n",
    "        if row[6] in pop_end_station:\n",
    "            pop_end_station[row[6]] += 1\n",
    "        elif row[6] not in pop_end_station:\n",
    "            pop_end_station[row[6]] = 0\n",
    "        start_time = datetime.strptime(row[2], \"%Y-%m-%d %H:%M:%S\")\n",
    "        end_time = datetime.strptime(row[3], \"%Y-%m-%d %H:%M:%S\")\n",
    "        duration = end_time - start_time\n",
    "        if duration.total_seconds() >= 0:\n",
    "            duration_lst.append(duration.total_seconds())"
   ]
  },
  {
   "cell_type": "markdown",
   "id": "a224b18a",
   "metadata": {},
   "source": [
    "## Part 4 - Descriptive Statistics\n",
    "\n",
    "### Analysis on Numeric Data\n",
    "\n",
    "#### Central Tendency"
   ]
  },
  {
   "cell_type": "code",
   "execution_count": 97,
   "id": "b461c32c",
   "metadata": {},
   "outputs": [
    {
     "name": "stdout",
     "output_type": "stream",
     "text": [
      "1116.0747296807353\n",
      "525.0\n"
     ]
    }
   ],
   "source": [
    "# TODO: copy and paste your results here\n",
    "import numpy as np\n",
    "duration_lst = np.array(duration_lst)\n",
    "mean = np.mean(duration_lst)\n",
    "median = np.median(duration_lst)\n",
    "print(mean)\n",
    "print(median)"
   ]
  },
  {
   "cell_type": "markdown",
   "id": "71904efe",
   "metadata": {},
   "source": [
    "#### Dispersion"
   ]
  },
  {
   "cell_type": "code",
   "execution_count": 98,
   "id": "d6b90cb5",
   "metadata": {},
   "outputs": [
    {
     "name": "stdout",
     "output_type": "stream",
     "text": [
      "4319.18225673212\n"
     ]
    }
   ],
   "source": [
    "# TODO: copy and paste your results here\n",
    "std = np.std(duration_lst)\n",
    "print(std)"
   ]
  },
  {
   "cell_type": "markdown",
   "id": "fc64abb0",
   "metadata": {},
   "source": [
    "#### Outliers"
   ]
  },
  {
   "cell_type": "code",
   "execution_count": 99,
   "id": "32f1de67",
   "metadata": {
    "scrolled": true
   },
   "outputs": [
    {
     "name": "stdout",
     "output_type": "stream",
     "text": [
      "422921.0\n",
      "0.0\n",
      "7592.0\n",
      "0.0\n"
     ]
    }
   ],
   "source": [
    "# TODO: copy and paste your results here\n",
    "max_duration = duration_lst.max()\n",
    "min_duration = duration_lst.min()\n",
    "print(max_duration)\n",
    "print(min_duration)\n",
    "\n",
    "distance_from_mean = abs(duration_lst - mean)\n",
    "not_outlier = distance_from_mean < 1.5 * std\n",
    "duration_lst = duration_lst[not_outlier]\n",
    "print(duration_lst.max())\n",
    "print(duration_lst.min())"
   ]
  },
  {
   "cell_type": "markdown",
   "id": "37771818",
   "metadata": {},
   "source": [
    "#### Other\n"
   ]
  },
  {
   "cell_type": "code",
   "execution_count": 100,
   "id": "5a2eb3be",
   "metadata": {},
   "outputs": [
    {
     "name": "stdout",
     "output_type": "stream",
     "text": [
      "310.0\n",
      "807.0\n"
     ]
    }
   ],
   "source": [
    "# TODO: copy and paste your results here\n",
    "Q1 = np.percentile(duration_lst, 25)\n",
    "Q3 = np.percentile(duration_lst, 70)\n",
    "print(Q1)\n",
    "print(Q3)"
   ]
  },
  {
   "cell_type": "markdown",
   "id": "a38edc33",
   "metadata": {},
   "source": [
    "###  Analysis on Categorical Data"
   ]
  },
  {
   "cell_type": "markdown",
   "id": "06628356",
   "metadata": {},
   "source": [
    "#### Frequency"
   ]
  },
  {
   "cell_type": "code",
   "execution_count": 110,
   "id": "d8b78a43",
   "metadata": {},
   "outputs": [
    {
     "name": "stdout",
     "output_type": "stream",
     "text": [
      "Frequencies of start stations: \n",
      " {'JCBS Depot': 1, 'Grant Ave & MLK Dr': 88, 'Bergen Ave & Stegman St': 167, 'Jackson Square': 211, 'Union St': 215, '5 Corners Library': 234, 'Dey St': 254, 'Stevens - River Ter & 6 St': 286, 'Communipaw & Berry Lane': 331, 'Leonard Gordon Park': 341, 'Glenwood Ave': 410, 'Christ Hospital': 423, 'Brunswick & 6th': 481, 'Heights Elevator': 506, 'Astor Place': 522, 'Riverview Park': 528, 'Madison St & 10 St': 586, 'Oakland Ave': 594, 'Dixon Mills': 613, 'Montgomery St': 617, 'Journal Square': 642, 'Lincoln Park': 652, 'Jersey & 6th St': 661, 'Mama Johnson Field - 4 St & Jackson St': 670, 'Bergen Ave': 680, 'Hilltop': 708, 'Adams St & 11 St': 717, 'Essex Light Rail': 724, 'Pershing Field': 728, 'Lafayette Park': 753, 'Willow Ave & 12 St': 768, 'Clinton St & 7 St': 815, '6 St & Grand St': 816, 'Monmouth and 6th': 849, 'Jersey & 3rd': 869, '9 St HBLR - Jackson St & 8 St': 898, 'Baldwin at Montgomery': 921, 'Morris Canal': 1004, '4 St & Grand St': 1021, '12 St & Sinatra Dr N': 1022, 'Grand St': 1047, 'Van Vorst Park': 1127, 'Paulus Hook': 1144, 'Manila & 1st': 1152, '7 St & Monroe St': 1153, 'Brunswick St': 1164, 'Bloomfield St & 15 St': 1226, 'McGinley Square': 1241, 'Southwest Park - Jackson St & Observer Hwy': 1254, 'Columbus Park - Clinton St & 9 St': 1254, 'Grand St & 14 St': 1360, 'JC Medical Center': 1408, 'Newark Ave': 1439, 'Grand St & 2 St': 1452, 'Columbus Drive': 1505, 'Church Sq Park - 5 St & Park Ave': 1567, 'Madison St & 1 St': 1664, 'Warren St': 1668, '8 St & Washington St': 1714, 'City Hall': 1789, 'Liberty Light Rail': 1864, 'Washington St': 1946, 'Hoboken Ave at Monmouth St': 2063, 'Harborside': 2080, 'Columbus Dr at Exchange Pl': 2126, '11 St & Washington St': 2164, 'Marin Light Rail': 2249, 'Sip Ave': 2326, 'Hamilton Park': 2467, 'Newport PATH': 2529, '14 St Ferry - 14 St & Shipyard Ln': 2582, 'Newport Pkwy': 3118, 'Hoboken Terminal - River St & Hudson Pl': 3328, 'Grove St PATH': 3738, 'Hoboken Terminal - Hudson St & Hudson Pl': 3898, 'South Waterfront Walkway - Sinatra Dr & 1 St': 4592} \n",
      "\n",
      "Frequencies of end stations: \n",
      " {'Myrtle Ave & St Edwards St': 0, 'Fort Washington Ave & W 183 St': 0, '8 Ave & W 33 St': 0, 'South St & Gouverneur Ln': 0, 'Broadway & W 155 St': 0, 'LaGuardia Pl & W 3 St': 0, 'W 163 St & Riverside Dr': 0, 'W 4 St & 7 Ave S': 0, 'Riverside Dr & W 72 St': 0, 'West End Ave & W 60 St': 0, 'Greenwich St & Hubert St': 0, '10 Ave & W 14 St': 0, 'Albany St & Greenwich St': 0, 'Pearl St & Hanover Square': 0, 'Carmine St & 6 Ave': 0, 'Cathedral Pkwy & Broadway': 0, 'Carlton Ave & Dean St': 0, 'E 16 St & 5 Ave': 0, 'W Broadway & W Houston St': 0, '6 Ave & W 33 St': 0, 'West St & Chambers St': 0, 'Great Jones St': 0, 'Washington St & Gansevoort St': 0, '52 St & 1 Ave': 0, '11 Ave & W 27 St': 0, 'Schermerhorn St & Court St': 1, 'Harrison St & Hudson St': 1, 'Greenwich St & W Houston St': 1, 'W 45 St & 8 Ave': 1, '11 Ave & W 59 St': 1, 'Cabrini Blvd & W 177 St': 2, 'John St & William St': 2, 'JCBS Depot': 3, 'Clinton St\\\\t& Cherry St': 4, '12 Ave & W 40 St': 4, 'Vesey Pl & River Terrace': 5, 'Grant Ave & MLK Dr': 98, 'Bergen Ave & Stegman St': 178, '5 Corners Library': 186, 'Jackson Square': 200, 'Union St': 224, 'Dey St': 237, 'Stevens - River Ter & 6 St': 286, 'Leonard Gordon Park': 314, 'Communipaw & Berry Lane': 351, 'Glenwood Ave': 352, 'Brunswick & 6th': 353, 'Christ Hospital': 405, 'Heights Elevator': 450, 'Riverview Park': 457, 'Oakland Ave': 503, 'Astor Place': 506, '': 521, 'Hilltop': 546, 'Journal Square': 595, 'Madison St & 10 St': 597, 'Dixon Mills': 603, 'Jersey & 6th St': 623, 'Montgomery St': 627, 'Lincoln Park': 661, 'Mama Johnson Field - 4 St & Jackson St': 663, 'Bergen Ave': 663, 'Pershing Field': 683, 'Adams St & 11 St': 740, 'Essex Light Rail': 743, 'Lafayette Park': 758, 'Willow Ave & 12 St': 766, '6 St & Grand St': 777, 'Clinton St & 7 St': 810, 'Monmouth and 6th': 839, 'Jersey & 3rd': 870, '9 St HBLR - Jackson St & 8 St': 901, 'Baldwin at Montgomery': 902, 'Morris Canal': 980, '4 St & Grand St': 1017, 'Grand St': 1056, '12 St & Sinatra Dr N': 1060, 'McGinley Square': 1063, 'Van Vorst Park': 1154, 'Brunswick St': 1154, 'Paulus Hook': 1162, '7 St & Monroe St': 1185, 'Bloomfield St & 15 St': 1207, 'Manila & 1st': 1211, 'Columbus Park - Clinton St & 9 St': 1271, 'Southwest Park - Jackson St & Observer Hwy': 1271, 'Grand St & 14 St': 1364, 'JC Medical Center': 1434, 'Newark Ave': 1440, 'Grand St & 2 St': 1455, 'Columbus Drive': 1502, 'Church Sq Park - 5 St & Park Ave': 1557, 'Madison St & 1 St': 1636, '8 St & Washington St': 1690, 'Warren St': 1709, 'Liberty Light Rail': 1857, 'City Hall': 1870, 'Washington St': 1951, 'Harborside': 2071, 'Hoboken Ave at Monmouth St': 2090, '11 St & Washington St': 2149, 'Columbus Dr at Exchange Pl': 2182, 'Marin Light Rail': 2246, 'Sip Ave': 2288, 'Hamilton Park': 2455, 'Newport PATH': 2532, '14 St Ferry - 14 St & Shipyard Ln': 2623, 'Newport Pkwy': 3110, 'Hoboken Terminal - River St & Hudson Pl': 3269, 'Grove St PATH': 3867, 'Hoboken Terminal - Hudson St & Hudson Pl': 3932, 'South Waterfront Walkway - Sinatra Dr & 1 St': 4605}\n",
      "\n",
      "\n",
      "The most popular start station is South Waterfront Walkway - Sinatra Dr & 1 St with frequency 4592s.\n",
      "\n",
      "The most popular end station is South Waterfront Walkway - Sinatra Dr & 1 St with frequency 4605s.\n"
     ]
    }
   ],
   "source": [
    "# TODO: copy and paste your results here\n",
    "pop_start_station_ranked = {key: value for key, value in sorted(pop_start_station.items(), key=lambda item: item[1])}\n",
    "pop_end_station_ranked = {key: value for key, value in sorted(pop_end_station.items(), key=lambda item: item[1])}\n",
    "print(\"Frequencies of start stations: \\n\", pop_start_station_ranked, \"\\n\")\n",
    "print(\"Frequencies of end stations: \\n\", pop_end_station_ranked)\n",
    "\n",
    "most_pop_start_station = max(pop_start_station, key=pop_start_station.get)\n",
    "most_pop_end_station = max(pop_end_station, key=pop_end_station.get)\n",
    "print(\"\\n\")\n",
    "print(\"The most popular start station is \" + most_pop_start_station + \" with frequency \" + str(pop_start_station[most_pop_start_station]) + \"s.\\n\")\n",
    "print(\"The most popular end station is \" + most_pop_end_station + \" with frequency \" + str(pop_end_station[most_pop_end_station]) + \"s.\")"
   ]
  },
  {
   "cell_type": "markdown",
   "id": "c124ecaa",
   "metadata": {},
   "source": [
    "#### Unique Values"
   ]
  },
  {
   "cell_type": "code",
   "execution_count": 111,
   "id": "4f7747f3",
   "metadata": {},
   "outputs": [
    {
     "name": "stdout",
     "output_type": "stream",
     "text": [
      "Unique Values of Start Stations: \n",
      " ['Dey St', 'Grand St & 2 St', 'Glenwood Ave', 'Newport PATH', 'Columbus Dr at Exchange Pl', 'Pershing Field', 'South Waterfront Walkway - Sinatra Dr & 1 St', 'McGinley Square', '6 St & Grand St', 'Jersey & 3rd', '7 St & Monroe St', 'Morris Canal', 'Heights Elevator', 'Grove St PATH', 'Clinton St & 7 St', 'Willow Ave & 12 St', 'Lafayette Park', 'JC Medical Center', 'Astor Place', 'Liberty Light Rail', '14 St Ferry - 14 St & Shipyard Ln', 'Grand St', 'Essex Light Rail', 'Hamilton Park', 'Columbus Drive', 'Journal Square', 'Bergen Ave', 'Madison St & 10 St', 'Warren St', 'Hilltop', 'Harborside', 'Jersey & 6th St', 'Paulus Hook', 'Jackson Square', 'Montgomery St', 'Brunswick St', 'Riverview Park', 'Church Sq Park - 5 St & Park Ave', 'Monmouth and 6th', '11 St & Washington St', 'Washington St', 'Southwest Park - Jackson St & Observer Hwy', '9 St HBLR - Jackson St & 8 St', 'Mama Johnson Field - 4 St & Jackson St', '12 St & Sinatra Dr N', 'Madison St & 1 St', 'Stevens - River Ter & 6 St', '8 St & Washington St', 'Bergen Ave & Stegman St', 'City Hall', 'Hoboken Terminal - River St & Hudson Pl', 'Lincoln Park', 'Union St', 'Sip Ave', 'Brunswick & 6th', 'Manila & 1st', '5 Corners Library', 'Bloomfield St & 15 St', 'Dixon Mills', 'Columbus Park - Clinton St & 9 St', 'Marin Light Rail', 'JCBS Depot', 'Oakland Ave', 'Hoboken Terminal - Hudson St & Hudson Pl', 'Adams St & 11 St', 'Newport Pkwy', '4 St & Grand St', 'Van Vorst Park', 'Newark Ave', 'Communipaw & Berry Lane', 'Baldwin at Montgomery', 'Grant Ave & MLK Dr', 'Hoboken Ave at Monmouth St', 'Grand St & 14 St', 'Leonard Gordon Park', 'Christ Hospital'] \n",
      "\n",
      "Unique Values of End Stations: \n",
      " ['Stevens - River Ter & 6 St', 'Jersey & 3rd', '7 St & Monroe St', 'Sip Ave', 'Pershing Field', 'Glenwood Ave', 'Madison St & 1 St', 'Lincoln Park', 'Hoboken Terminal - River St & Hudson Pl', '', 'Morris Canal', 'Hilltop', 'Union St', 'Lafayette Park', 'JC Medical Center', 'Cabrini Blvd & W 177 St', 'Communipaw & Berry Lane', 'Hamilton Park', '9 St HBLR - Jackson St & 8 St', 'South Waterfront Walkway - Sinatra Dr & 1 St', 'Dey St', 'Van Vorst Park', 'Bergen Ave & Stegman St', 'Adams St & 11 St', 'Newark Ave', 'Heights Elevator', 'Manila & 1st', 'Church Sq Park - 5 St & Park Ave', 'Oakland Ave', 'Jersey & 6th St', 'Warren St', 'Newport Pkwy', 'Marin Light Rail', 'Grand St & 2 St', 'Liberty Light Rail', 'Willow Ave & 12 St', 'Paulus Hook', 'Madison St & 10 St', 'Harborside', 'Columbus Park - Clinton St & 9 St', 'Journal Square', 'Washington St', '6 St & Grand St', 'Bloomfield St & 15 St', 'Myrtle Ave & St Edwards St', 'City Hall', '5 Corners Library', 'Baldwin at Montgomery', 'Mama Johnson Field - 4 St & Jackson St', 'Hoboken Terminal - Hudson St & Hudson Pl', 'Monmouth and 6th', 'Grove St PATH', 'Schermerhorn St & Court St', 'Brunswick & 6th', '8 St & Washington St', 'Grand St', 'Brunswick St', '12 St & Sinatra Dr N', 'Fort Washington Ave & W 183 St', 'Clinton St\\\\t& Cherry St', '8 Ave & W 33 St', 'Columbus Dr at Exchange Pl', 'Clinton St & 7 St', 'Dixon Mills', 'Bergen Ave', 'Grant Ave & MLK Dr', 'John St & William St', 'South St & Gouverneur Ln', '4 St & Grand St', '14 St Ferry - 14 St & Shipyard Ln', 'Broadway & W 155 St', 'Montgomery St', 'LaGuardia Pl & W 3 St', 'Essex Light Rail', 'Columbus Drive', '11 St & Washington St', 'Astor Place', 'Riverview Park', 'Southwest Park - Jackson St & Observer Hwy', 'Harrison St & Hudson St', 'W 163 St & Riverside Dr', 'Newport PATH', 'JCBS Depot', 'Vesey Pl & River Terrace', 'Jackson Square', '12 Ave & W 40 St', 'W 4 St & 7 Ave S', 'Hoboken Ave at Monmouth St', 'McGinley Square', 'Riverside Dr & W 72 St', 'West End Ave & W 60 St', 'Greenwich St & Hubert St', '10 Ave & W 14 St', 'Greenwich St & W Houston St', 'Albany St & Greenwich St', 'Pearl St & Hanover Square', 'Carmine St & 6 Ave', 'Cathedral Pkwy & Broadway', 'Carlton Ave & Dean St', 'W 45 St & 8 Ave', 'E 16 St & 5 Ave', 'W Broadway & W Houston St', '6 Ave & W 33 St', 'West St & Chambers St', 'Great Jones St', '11 Ave & W 59 St', 'Grand St & 14 St', 'Washington St & Gansevoort St', '52 St & 1 Ave', '11 Ave & W 27 St', 'Leonard Gordon Park', 'Christ Hospital']\n"
     ]
    }
   ],
   "source": [
    "# TODO: copy and paste your results here\n",
    "pop_start_station_lst = []\n",
    "pop_end_station_lst = []\n",
    "for key in pop_start_station.keys():\n",
    "    pop_start_station_lst.append(key)\n",
    "for key in pop_end_station.keys():\n",
    "    pop_end_station_lst.append(key)\n",
    "print(\"Unique Values of Start Stations: \\n\", pop_start_station_lst, \"\\n\")\n",
    "print(\"Unique Values of End Stations: \\n\", pop_end_station_lst)"
   ]
  },
  {
   "cell_type": "markdown",
   "id": "fedbd395",
   "metadata": {},
   "source": [
    "## Part 5 - Visualizations\n",
    "\n"
   ]
  },
  {
   "cell_type": "code",
   "execution_count": 114,
   "id": "a9360927",
   "metadata": {},
   "outputs": [
    {
     "data": {
      "image/png": "[encoded data removed]",
      "text/plain": [
       "<Figure size 432x288 with 1 Axes>"
      ]
     },
     "metadata": {
      "needs_background": "light"
     },
     "output_type": "display_data"
    },
    {
     "data": {
      "image/png": "[encoded data removed]",
      "text/plain": [
       "<Figure size 432x288 with 1 Axes>"
      ]
     },
     "metadata": {
      "needs_background": "light"
     },
     "output_type": "display_data"
    },
    {
     "data": {
      "image/png": "[encoded data removed]",
      "text/plain": [
       "<Figure size 432x288 with 1 Axes>"
      ]
     },
     "metadata": {
      "needs_background": "light"
     },
     "output_type": "display_data"
    },
    {
     "data": {
      "image/png": "[encoded data removed]",
      "text/plain": [
       "<Figure size 432x288 with 1 Axes>"
      ]
     },
     "metadata": {
      "needs_background": "light"
     },
     "output_type": "display_data"
    }
   ],
   "source": [
    "# TODO: add visualizations here\n",
    "import matplotlib.pyplot as plt\n",
    "plt.boxplot(duration_lst, sym = '+', vert = False)\n",
    "plt.title(\"Biking Duration Box Plot\")\n",
    "plt.xlabel(\"Biking Duration(s)\")\n",
    "plt.show()\n",
    "\n",
    "plt.violinplot(duration_lst, vert = False)\n",
    "plt.title(\"Biking Duration Violin Plot\")\n",
    "plt.xlabel(\"Biking Duration(s)\")\n",
    "plt.show()\n",
    "\n",
    "pop_start_station_lst_item = list(pop_start_station.items())\n",
    "pop_start_station_lst_item = sorted(pop_start_station_lst_item, key=lambda entry: entry[1], reverse = True)[:10]\n",
    "plt.bar([k[0] for k in pop_start_station_lst_item[:]], [k[1] for k in pop_start_station_lst_item[:]])\n",
    "plt.xticks(rotation='vertical')\n",
    "plt.title(\"Top 10 Station Names VS Numbers Out (Start)\")\n",
    "plt.xlabel(\"Station Names\")\n",
    "plt.ylabel(\"Numbers Out (Start)\")\n",
    "plt.show()\n",
    "\n",
    "pop_end_station_lst_item = list(pop_end_station.items())\n",
    "pop_end_station_lst_item = sorted(pop_end_station_lst_item, key=lambda entry: entry[1], reverse = True)[:10]\n",
    "plt.bar([j[0] for j in pop_end_station_lst_item[:]], [j[1] for j in pop_end_station_lst_item[:]])\n",
    "plt.xticks(rotation='vertical')\n",
    "plt.title(\"Top 10 Station Names VS Numbers In (End)\")\n",
    "plt.xlabel(\"Station Names\")\n",
    "plt.ylabel(\"Numbers In (End)\")\n",
    "plt.show()"
   ]
  },
  {
   "cell_type": "markdown",
   "id": "1b5a845a",
   "metadata": {},
   "source": [
    "* The first box plot reflects the distribution of biking duration of Citi Bike riders. The orange line represents the mean, and the two black lines represent the -1.5 and + 1.5 times interquatile range. The values outside these black lines are considered outliers.\n",
    "* The second violin plot is pretty similar to the box plot, but it shows the probability density of the data at different values, which is more explicit to understand how data distribute.\n",
    "* The following two bar plots reflect the top 10 most popular start stations and end stations in Jersey city."
   ]
  },
  {
   "cell_type": "markdown",
   "id": "547df543",
   "metadata": {},
   "source": [
    "## Part 6 - Conclusion\n",
    "\n",
    "* The box plot did not help me too much understanding the distribution, since there are a lot of \"outliers\" on the right side of the plot, which are messy. But it reflects the median riding duration, which is 525.0s, also the first quatile and third quatile.\n",
    "* The violin plot help me understand the distribution much better, we can tell the majority of riding durations is within 1000s, which is 16 minutes. But comparing to the box plot, median, first quatile, third quatile are not clearly shown on the violin plot.\n",
    "* The last two barplots answer my second question: the top 10 most popular start stations and end stations are the same, as shown above.\n",
    "* There are still some places can be improved: the dataset contains unexplainable data such as 0s riding time. This is impossible in the real life, but as I tried to remove the values which are more than 1.5 standard deviations away from the mean, these 0s values have still not been gotten rid of. It will be too arbitrary if I directly remove it. Probably this dataset itself is not really \"beginner-friendly:\" the standard deviation is even more than 4000, which indicates the data is tough to make analysis on."
   ]
  }
 ],
 "metadata": {
  "kernelspec": {
   "display_name": "Python 3",
   "language": "python",
   "name": "python3"
  },
  "language_info": {
   "codemirror_mode": {
    "name": "ipython",
    "version": 3
   },
   "file_extension": ".py",
   "mimetype": "text/x-python",
   "name": "python",
   "nbconvert_exporter": "python",
   "pygments_lexer": "ipython3",
   "version": "3.8.5"
  }
 },
 "nbformat": 4,
 "nbformat_minor": 5
}
